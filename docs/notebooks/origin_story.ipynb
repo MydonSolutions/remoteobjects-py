{
 "cells": [
  {
   "cell_type": "markdown",
   "metadata": {
    "slideshow": {
     "slide_type": "slide"
    },
    "tags": []
   },
   "source": [
    "[vla-dev: Way to remotely call F-engine methods atomically #4](https://github.com/realtimeradio/vla-dev/issues/4)\n",
    "```\n",
    "\"...it is useful to allow remote clients to issue entire CosmicFengine methods in an atomic fashion to ensure that multiple clients to not interfere with one another.\"\n",
    "```"
   ]
  },
  {
   "cell_type": "code",
   "execution_count": 1,
   "metadata": {
    "slideshow": {
     "slide_type": "slide"
    },
    "tags": []
   },
   "outputs": [],
   "source": [
    "class Dummy(object):\n",
    "\t\tdef __init__(self, **kwargs):\n",
    "\t\t\tself.dumbness = 'Not at all'\n",
    "\t\t\tif 'dumbness' in kwargs:\n",
    "\t\t\t\tself.dumbness = kwargs['dumbness']\n",
    "\n",
    "\t\tdef is_dumb(self, **kwargs):\n",
    "\t\t\tif 'dumbness' in kwargs:\n",
    "\t\t\t\tself.dumbness = kwargs['dumbness']\n",
    "\t\t\treturn self.dumbness\n",
    "\n",
    "\t\tdef add(self, a: int, b: int):\n",
    "\t\t\treturn a + b\n"
   ]
  },
  {
   "cell_type": "code",
   "execution_count": 2,
   "metadata": {
    "slideshow": {
     "slide_type": "subslide"
    },
    "tags": []
   },
   "outputs": [
    {
     "data": {
      "text/plain": [
       "'See, not so...'"
      ]
     },
     "execution_count": 2,
     "metadata": {},
     "output_type": "execute_result"
    }
   ],
   "source": [
    "dunce = Dummy()\n",
    "# It's possible to get methods by name...\n",
    "method = getattr(dunce, 'is_dumb')\n",
    "method(dumbness = 'See, not so...')\n",
    "\n",
    "# ...and they operate on their instance\n",
    "dunce.is_dumb()"
   ]
  },
  {
   "cell_type": "code",
   "execution_count": 3,
   "metadata": {
    "slideshow": {
     "slide_type": "subslide"
    },
    "tags": []
   },
   "outputs": [
    {
     "data": {
      "text/plain": [
       "[('__dir__', <function Dummy.__dir__()>),\n",
       " ('__format__', <function Dummy.__format__(format_spec, /)>),\n",
       " ('__init__',\n",
       "  <bound method Dummy.__init__ of <__main__.Dummy object at 0x000001F8AA1C39A0>>),\n",
       " ('__init_subclass__', <function Dummy.__init_subclass__>),\n",
       " ('__new__', <function object.__new__(*args, **kwargs)>),\n",
       " ('__reduce__', <function Dummy.__reduce__()>),\n",
       " ('__reduce_ex__', <function Dummy.__reduce_ex__(protocol, /)>),\n",
       " ('__sizeof__', <function Dummy.__sizeof__()>),\n",
       " ('__subclasshook__', <function Dummy.__subclasshook__>),\n",
       " ('add',\n",
       "  <bound method Dummy.add of <__main__.Dummy object at 0x000001F8AA1C39A0>>),\n",
       " ('is_dumb',\n",
       "  <bound method Dummy.is_dumb of <__main__.Dummy object at 0x000001F8AA1C39A0>>)]"
      ]
     },
     "execution_count": 3,
     "metadata": {},
     "output_type": "execute_result"
    }
   ],
   "source": [
    "# Using the standard inspect package, it's possible to get all methods of an instance\n",
    "import inspect\n",
    "[method for method in inspect.getmembers(dunce, lambda a: inspect.isroutine(a))]\n",
    "# and filter out what should be private"
   ]
  },
  {
   "cell_type": "code",
   "execution_count": 4,
   "metadata": {
    "slideshow": {
     "slide_type": "subslide"
    },
    "tags": []
   },
   "outputs": [
    {
     "data": {
      "text/plain": [
       "{'a': <Parameter \"a: int\">, 'b': <Parameter \"b: int\">}"
      ]
     },
     "execution_count": 4,
     "metadata": {},
     "output_type": "execute_result"
    }
   ],
   "source": [
    "# Furthermore, it's possible to get the signature of the methods...\n",
    "method = getattr(dunce, 'add')\n",
    "{key: parameter for (key, parameter) in inspect.signature(method).parameters.items()}"
   ]
  },
  {
   "cell_type": "markdown",
   "metadata": {
    "slideshow": {
     "slide_type": "slide"
    },
    "tags": []
   },
   "source": [
    "So the server Python instance would be able to provide a single `call-this-method-with-these-arguments` endpoint.\n",
    "\n",
    "The client Python instance would be able to query available methods and their signatures..."
   ]
  },
  {
   "cell_type": "code",
   "execution_count": 5,
   "metadata": {
    "slideshow": {
     "slide_type": "slide"
    },
    "tags": []
   },
   "outputs": [
    {
     "name": "stdout",
     "output_type": "stream",
     "text": [
      "class DummyMock(object):\n",
      "\tdef __init__(self):\n",
      "\t\tpass\n",
      "\n"
     ]
    }
   ],
   "source": [
    "# Python can write dynamic class definitions...\n",
    "classname = 'Dummy'\n",
    "loc = [\n",
    "\tf\"class {classname}Mock(object):\",\n",
    "\tf\"\\tdef __init__(self):\",\n",
    "\tf\"\\t\\tpass\",\n",
    "\tf\"\",\n",
    "]\n",
    "print('\\n'.join(loc))"
   ]
  },
  {
   "cell_type": "code",
   "execution_count": 6,
   "metadata": {
    "slideshow": {
     "slide_type": "subslide"
    },
    "tags": []
   },
   "outputs": [],
   "source": [
    "# ... definitions can be executed and added to the environment\n",
    "local_dict = {}\n",
    "exec('\\n'.join(loc), None, local_dict)\n",
    "globals()[f\"{classname}Mock\"] = local_dict[f\"{classname}Mock\"]\n",
    "\n",
    "mock = DummyMock()"
   ]
  },
  {
   "cell_type": "code",
   "execution_count": 7,
   "metadata": {
    "slideshow": {
     "slide_type": "subslide"
    },
    "tags": []
   },
   "outputs": [
    {
     "name": "stdout",
     "output_type": "stream",
     "text": [
      "DummyMock<0x1f8a9e771c0>.add(a: 11, b: 31);\n"
     ]
    }
   ],
   "source": [
    "# Dynamic functions can also be defined\n",
    "loc = [\n",
    "f\"def add(self, a, b):\",\n",
    "\"\\tprint(f'DummyMock<{hex(id(self))}>.add(a: {a}, b: {b});')\"\n",
    "]\n",
    "\n",
    "local_dict = {}\n",
    "exec('\\n'.join(loc), None, local_dict)\n",
    "mock_add_func = local_dict[\"add\"]\n",
    "mock_add_func(mock, 11, 31)"
   ]
  },
  {
   "cell_type": "code",
   "execution_count": 8,
   "metadata": {
    "slideshow": {
     "slide_type": "subslide"
    },
    "tags": []
   },
   "outputs": [
    {
     "name": "stdout",
     "output_type": "stream",
     "text": [
      "DummyMock<0x1f8a9e771c0>.add(a: 11, b: 31);\n"
     ]
    }
   ],
   "source": [
    "# And a function can be set as an instance's method\n",
    "import types\n",
    "setattr(mock, 'add', types.MethodType(mock_add_func, mock))\n",
    "\n",
    "mock.add(11, 31)"
   ]
  },
  {
   "cell_type": "markdown",
   "metadata": {
    "slideshow": {
     "slide_type": "slide"
    },
    "tags": []
   },
   "source": [
    "That's fundamentally how `remoteobjects` provides native-access to remote python-objects under a client-server model.\n",
    "\n",
    "- A REST server exposes registration of and (method/attribute) access to instances of classes\n",
    "\n",
    "- Client-local classes are dynamically defined with signatures matching their remote targets.\n",
    "- Client-local classes have methods/properties that make REST requests to their remote counterparts (methods/attributes)"
   ]
  }
 ],
 "metadata": {
  "interpreter": {
   "hash": "63fd5069d213b44bf678585dea6b12cceca9941eaf7f819626cde1f2670de90d"
  },
  "kernelspec": {
   "display_name": "Python 3 (ipykernel)",
   "language": "python",
   "name": "python3"
  },
  "language_info": {
   "codemirror_mode": {
    "name": "ipython",
    "version": 3
   },
   "file_extension": ".py",
   "mimetype": "text/x-python",
   "name": "python",
   "nbconvert_exporter": "python",
   "pygments_lexer": "ipython3",
   "version": "3.9.6"
  },
  "toc-autonumbering": false,
  "toc-showcode": true,
  "toc-showmarkdowntxt": true
 },
 "nbformat": 4,
 "nbformat_minor": 4
}
